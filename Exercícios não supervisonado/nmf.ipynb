{
 "cells": [
  {
   "cell_type": "code",
   "execution_count": 430,
   "metadata": {},
   "outputs": [],
   "source": [
    "import numpy as np"
   ]
  },
  {
   "cell_type": "code",
   "execution_count": 431,
   "metadata": {},
   "outputs": [],
   "source": [
    "def nmf_multiplicative_update(X, W, H, t=1e-5, max_iter=200):\n",
    "\tfor _ in range(max_iter):\n",
    "\t\t# Update W\n",
    "\t\tWHHt = np.dot(W.dot(H), H.T) + t\n",
    "\t\tW *= np.dot(X, H.T) / WHHt\n",
    "\n",
    "\t\t# Update H\n",
    "\t\tWtWHt = np.dot(W.T.dot(W), H) + t\n",
    "\t\tH *= np.dot(W.T, X) / WtWHt\n",
    "\n",
    "\t\t# Compute the Frobenius norm\n",
    "\t\tnorm = np.linalg.norm(X - np.dot(W, H))\n",
    "\t\tif norm < t:\n",
    "\t\t\tbreak\n",
    "\n",
    "\treturn W, H"
   ]
  },
  {
   "cell_type": "code",
   "execution_count": 432,
   "metadata": {},
   "outputs": [],
   "source": [
    "# Create a matrix W and H with random values non-negative values.\n",
    "W = np.random.rand(10, 7)\n",
    "H = np.random.rand(7, 10)"
   ]
  },
  {
   "cell_type": "code",
   "execution_count": 433,
   "metadata": {},
   "outputs": [],
   "source": [
    "# Create a matrix V as the product of W and H\n",
    "V = np.dot(W, H)"
   ]
  },
  {
   "cell_type": "code",
   "execution_count": 434,
   "metadata": {},
   "outputs": [
    {
     "data": {
      "text/plain": [
       "array([[1.62602059, 1.30304625, 1.75442187, 1.3803231 , 2.01221532,\n",
       "        1.59281984, 1.70234007, 1.07695602, 1.97579276, 1.75629071],\n",
       "       [1.25694871, 1.01107631, 1.56126091, 1.12373112, 1.53076707,\n",
       "        1.11018715, 1.45096447, 0.66359932, 1.65334091, 1.48994909],\n",
       "       [1.4610094 , 1.14442206, 1.80855391, 1.23770122, 2.01794794,\n",
       "        1.23034438, 2.18166857, 1.02505357, 1.85032334, 1.06186249],\n",
       "       [0.83765184, 0.58824027, 0.55232257, 0.53947895, 0.91195547,\n",
       "        0.57025116, 0.92783802, 0.62529074, 0.8536296 , 0.42133466],\n",
       "       [1.57786253, 1.11119552, 1.42249767, 1.33387473, 1.75016672,\n",
       "        1.36085626, 1.95409185, 0.83835633, 2.05456891, 1.55732738],\n",
       "       [1.96307489, 1.71347941, 1.96527419, 1.61950806, 2.19937895,\n",
       "        1.48780706, 2.03322191, 1.16212816, 2.110964  , 1.78635206],\n",
       "       [2.58878687, 2.03776905, 2.30660058, 2.04991376, 2.89261976,\n",
       "        2.24207129, 2.74375869, 1.75154252, 2.57491276, 2.1250499 ],\n",
       "       [1.65811064, 1.47902234, 2.00230042, 1.77351381, 2.2255023 ,\n",
       "        1.71375597, 2.54374157, 0.87158015, 2.37263689, 1.77788745],\n",
       "       [2.69044923, 2.06837386, 2.41972846, 1.86278451, 3.10167337,\n",
       "        1.79129325, 2.82285911, 1.82816521, 3.10838033, 1.98362348],\n",
       "       [1.06055287, 1.25217034, 0.82799423, 0.98716673, 1.44433074,\n",
       "        0.74521167, 1.11877454, 0.66157125, 1.72512993, 0.95016664]])"
      ]
     },
     "execution_count": 434,
     "metadata": {},
     "output_type": "execute_result"
    }
   ],
   "source": [
    "V"
   ]
  },
  {
   "cell_type": "code",
   "execution_count": 435,
   "metadata": {},
   "outputs": [],
   "source": [
    "save_P = V[1, 2]\n",
    "\n",
    "# Erase a entry P of V\n",
    "V[1, 2] = 0.001"
   ]
  },
  {
   "cell_type": "code",
   "execution_count": 436,
   "metadata": {},
   "outputs": [],
   "source": [
    "# Perform NMF on V\n",
    "W_, H_ = nmf_multiplicative_update(V, W, H)"
   ]
  },
  {
   "cell_type": "code",
   "execution_count": 437,
   "metadata": {},
   "outputs": [],
   "source": [
    "# reconstruct V\n",
    "V_ = np.dot(W_, H_)"
   ]
  },
  {
   "cell_type": "code",
   "execution_count": 438,
   "metadata": {},
   "outputs": [
    {
     "data": {
      "text/plain": [
       "1.5612609082180213"
      ]
     },
     "execution_count": 438,
     "metadata": {},
     "output_type": "execute_result"
    }
   ],
   "source": [
    "save_P"
   ]
  },
  {
   "cell_type": "code",
   "execution_count": 439,
   "metadata": {},
   "outputs": [
    {
     "data": {
      "text/plain": [
       "0.061972891425194694"
      ]
     },
     "execution_count": 439,
     "metadata": {},
     "output_type": "execute_result"
    }
   ],
   "source": [
    "V_[1,2]"
   ]
  }
 ],
 "metadata": {
  "kernelspec": {
   "display_name": "Python 3",
   "language": "python",
   "name": "python3"
  },
  "language_info": {
   "codemirror_mode": {
    "name": "ipython",
    "version": 3
   },
   "file_extension": ".py",
   "mimetype": "text/x-python",
   "name": "python",
   "nbconvert_exporter": "python",
   "pygments_lexer": "ipython3",
   "version": "3.11.0"
  }
 },
 "nbformat": 4,
 "nbformat_minor": 2
}
