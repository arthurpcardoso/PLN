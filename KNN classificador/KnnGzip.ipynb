{
 "cells": [
  {
   "cell_type": "code",
   "execution_count": 1,
   "metadata": {},
   "outputs": [],
   "source": [
    "import numpy as np\n",
    "import pandas as pd\n",
    "from collections import Counter\n",
    "from sklearn.base import BaseEstimator, ClassifierMixin\n",
    "from sklearn.model_selection import train_test_split\n",
    "from sklearn.utils.validation import check_X_y, check_array, check_is_fitted\n",
    "from sklearn.utils.multiclass import unique_labels\n",
    "from sklearn.feature_extraction.text import TfidfVectorizer"
   ]
  },
  {
   "cell_type": "code",
   "execution_count": 3,
   "metadata": {},
   "outputs": [],
   "source": [
    "class KNNGzipClassifier(BaseEstimator, ClassifierMixin):\n",
    "    def __init__(self, k=5, metric='euclidean', vectorizer=None):\n",
    "        self.k = k\n",
    "        self.metric = metric\n",
    "        self.vectorizer = vectorizer\n",
    "    \n",
    "    def fit(self, X, y):\n",
    "        X, y = check_X_y(X, y)\n",
    "        self.classes_ = unique_labels(y)\n",
    "        self.X_ = X\n",
    "        self.y_ = y\n",
    "        self.vectorizer_ = TfidfVectorizer() if self.vectorizer is None else self.vectorizer\n",
    "        self.vectorizer_.fit(X)\n",
    "        return self\n",
    "    \n",
    "    def predict(self, X):\n",
    "        check_is_fitted(self, ['X_', 'y_'])\n",
    "        X = check_array(X)\n",
    "        X = self.vectorizer_.transform(X)\n",
    "        distances = self._get_distances(X)\n",
    "        return self._predict_from_distances(distances)\n",
    "    \n",
    "    def _get_distances(self, X):\n",
    "        distances = []\n",
    "        for i in range(X.shape[0]):\n",
    "            distances.append(self._get_distance(X[i]))\n",
    "        return np.array(distances)\n",
    "    \n",
    "    def _predict_from_distances(self, distances):\n",
    "        predictions = []\n",
    "        for i in range(distances.shape[0]):\n",
    "            predictions.append(self._predict_one(distances[i]))\n",
    "        return np.array(predictions)"
   ]
  }
 ],
 "metadata": {
  "kernelspec": {
   "display_name": "Python 3",
   "language": "python",
   "name": "python3"
  },
  "language_info": {
   "codemirror_mode": {
    "name": "ipython",
    "version": 3
   },
   "file_extension": ".py",
   "mimetype": "text/x-python",
   "name": "python",
   "nbconvert_exporter": "python",
   "pygments_lexer": "ipython3",
   "version": "3.11.5"
  },
  "orig_nbformat": 4
 },
 "nbformat": 4,
 "nbformat_minor": 2
}
