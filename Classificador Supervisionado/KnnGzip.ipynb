{
 "cells": [
  {
   "cell_type": "code",
   "execution_count": 1,
   "metadata": {},
   "outputs": [],
   "source": [
    "import gzip\n",
    "import numpy as np\n",
    "import pandas as pd\n",
    "from sklearn.base import BaseEstimator, ClassifierMixin\n",
    "from sklearn.utils.validation import check_X_y, check_array, check_is_fitted\n",
    "from sklearn.utils.multiclass import unique_labels\n",
    "from sklearn.metrics import euclidean_distances\n",
    "from sklearn.model_selection import train_test_split\n",
    "from sklearn.feature_extraction.text import TfidfVectorizer"
   ]
  },
  {
   "cell_type": "code",
   "execution_count": 2,
   "metadata": {},
   "outputs": [],
   "source": [
    "class KnnGzipClassifier(BaseEstimator, ClassifierMixin):\n",
    "    def __init__(self, k=5):\n",
    "        self.k = k\n",
    "\n",
    "    def ncd(self, x1, x2):\n",
    "        Cx1 = len(gzip.compress(x1.encode()))\n",
    "        Cx2 = len(gzip.compress(x2.encode()))\n",
    "        x1x2 = \" \".join([x1, x2])\n",
    "        Cx1x2 = len(gzip.compress(x1x2.encode()))\n",
    "        return (Cx1x2 - min(Cx1, Cx2)) / max(Cx1, Cx2)\n",
    "\n",
    "    def fit(self, X, y):\n",
    "        X, y = check_X_y(X, y)\n",
    "        self.classes_ = unique_labels(y)\n",
    "        self.X_ = X\n",
    "        self.y_ = y\n",
    "        return self\n",
    "\n",
    "    def predict(self, X):\n",
    "        check_is_fitted(self)\n",
    "        X = check_array(X)\n",
    "        distance_from_x1 = []\n",
    "\n",
    "        for x1 in X:\n",
    "            for x2 in self.X_:\n",
    "                ncd = self.ncd(x1, x2)\n",
    "                distance_from_x1.append(ncd)\n",
    "\n",
    "        distance_matrix = np.array(distance_from_x1).reshape(len(X), -1)\n",
    "        sorted_idx = np.argsort(distance_matrix, axis=1)[:, :self.k]\n",
    "        top_k_class = self.y_[sorted_idx]\n",
    "\n",
    "        # Predict class\n",
    "        predict_class = [np.argmax(np.bincount(classes)) for classes in top_k_class]\n",
    "        return np.array(predict_class)"
   ]
  },
  {
   "cell_type": "code",
   "execution_count": 3,
   "metadata": {},
   "outputs": [],
   "source": [
    "base = pd.read_csv('Dmoz-Sports.csv')\n",
    "X = base['text']\n",
    "y = base['class']\n",
    "X_train, X_test, y_train, y_test = train_test_split(X, y, test_size=0.2, random_state=42)"
   ]
  },
  {
   "cell_type": "code",
   "execution_count": 4,
   "metadata": {},
   "outputs": [],
   "source": [
    "vectorizer = TfidfVectorizer()\n",
    "X_train = vectorizer.fit_transform(X_train)\n",
    "X_test_transformed = vectorizer.transform(X_test)"
   ]
  },
  {
   "cell_type": "code",
   "execution_count": 5,
   "metadata": {},
   "outputs": [
    {
     "data": {
      "text/html": [
       "<style>#sk-container-id-1 {color: black;}#sk-container-id-1 pre{padding: 0;}#sk-container-id-1 div.sk-toggleable {background-color: white;}#sk-container-id-1 label.sk-toggleable__label {cursor: pointer;display: block;width: 100%;margin-bottom: 0;padding: 0.3em;box-sizing: border-box;text-align: center;}#sk-container-id-1 label.sk-toggleable__label-arrow:before {content: \"▸\";float: left;margin-right: 0.25em;color: #696969;}#sk-container-id-1 label.sk-toggleable__label-arrow:hover:before {color: black;}#sk-container-id-1 div.sk-estimator:hover label.sk-toggleable__label-arrow:before {color: black;}#sk-container-id-1 div.sk-toggleable__content {max-height: 0;max-width: 0;overflow: hidden;text-align: left;background-color: #f0f8ff;}#sk-container-id-1 div.sk-toggleable__content pre {margin: 0.2em;color: black;border-radius: 0.25em;background-color: #f0f8ff;}#sk-container-id-1 input.sk-toggleable__control:checked~div.sk-toggleable__content {max-height: 200px;max-width: 100%;overflow: auto;}#sk-container-id-1 input.sk-toggleable__control:checked~label.sk-toggleable__label-arrow:before {content: \"▾\";}#sk-container-id-1 div.sk-estimator input.sk-toggleable__control:checked~label.sk-toggleable__label {background-color: #d4ebff;}#sk-container-id-1 div.sk-label input.sk-toggleable__control:checked~label.sk-toggleable__label {background-color: #d4ebff;}#sk-container-id-1 input.sk-hidden--visually {border: 0;clip: rect(1px 1px 1px 1px);clip: rect(1px, 1px, 1px, 1px);height: 1px;margin: -1px;overflow: hidden;padding: 0;position: absolute;width: 1px;}#sk-container-id-1 div.sk-estimator {font-family: monospace;background-color: #f0f8ff;border: 1px dotted black;border-radius: 0.25em;box-sizing: border-box;margin-bottom: 0.5em;}#sk-container-id-1 div.sk-estimator:hover {background-color: #d4ebff;}#sk-container-id-1 div.sk-parallel-item::after {content: \"\";width: 100%;border-bottom: 1px solid gray;flex-grow: 1;}#sk-container-id-1 div.sk-label:hover label.sk-toggleable__label {background-color: #d4ebff;}#sk-container-id-1 div.sk-serial::before {content: \"\";position: absolute;border-left: 1px solid gray;box-sizing: border-box;top: 0;bottom: 0;left: 50%;z-index: 0;}#sk-container-id-1 div.sk-serial {display: flex;flex-direction: column;align-items: center;background-color: white;padding-right: 0.2em;padding-left: 0.2em;position: relative;}#sk-container-id-1 div.sk-item {position: relative;z-index: 1;}#sk-container-id-1 div.sk-parallel {display: flex;align-items: stretch;justify-content: center;background-color: white;position: relative;}#sk-container-id-1 div.sk-item::before, #sk-container-id-1 div.sk-parallel-item::before {content: \"\";position: absolute;border-left: 1px solid gray;box-sizing: border-box;top: 0;bottom: 0;left: 50%;z-index: -1;}#sk-container-id-1 div.sk-parallel-item {display: flex;flex-direction: column;z-index: 1;position: relative;background-color: white;}#sk-container-id-1 div.sk-parallel-item:first-child::after {align-self: flex-end;width: 50%;}#sk-container-id-1 div.sk-parallel-item:last-child::after {align-self: flex-start;width: 50%;}#sk-container-id-1 div.sk-parallel-item:only-child::after {width: 0;}#sk-container-id-1 div.sk-dashed-wrapped {border: 1px dashed gray;margin: 0 0.4em 0.5em 0.4em;box-sizing: border-box;padding-bottom: 0.4em;background-color: white;}#sk-container-id-1 div.sk-label label {font-family: monospace;font-weight: bold;display: inline-block;line-height: 1.2em;}#sk-container-id-1 div.sk-label-container {text-align: center;}#sk-container-id-1 div.sk-container {/* jupyter's `normalize.less` sets `[hidden] { display: none; }` but bootstrap.min.css set `[hidden] { display: none !important; }` so we also need the `!important` here to be able to override the default hidden behavior on the sphinx rendered scikit-learn.org. See: https://github.com/scikit-learn/scikit-learn/issues/21755 */display: inline-block !important;position: relative;}#sk-container-id-1 div.sk-text-repr-fallback {display: none;}</style><div id=\"sk-container-id-1\" class=\"sk-top-container\"><div class=\"sk-text-repr-fallback\"><pre>KnnGzipClassifier(k=6)</pre><b>In a Jupyter environment, please rerun this cell to show the HTML representation or trust the notebook. <br />On GitHub, the HTML representation is unable to render, please try loading this page with nbviewer.org.</b></div><div class=\"sk-container\" hidden><div class=\"sk-item\"><div class=\"sk-estimator sk-toggleable\"><input class=\"sk-toggleable__control sk-hidden--visually\" id=\"sk-estimator-id-1\" type=\"checkbox\" checked><label for=\"sk-estimator-id-1\" class=\"sk-toggleable__label sk-toggleable__label-arrow\">KnnGzipClassifier</label><div class=\"sk-toggleable__content\"><pre>KnnGzipClassifier(k=6)</pre></div></div></div></div></div>"
      ],
      "text/plain": [
       "KnnGzipClassifier(k=6)"
      ]
     },
     "execution_count": 5,
     "metadata": {},
     "output_type": "execute_result"
    }
   ],
   "source": [
    "clf = KnnGzipClassifier(k=6)\n",
    "clf.fit(X_train.toarray(), y_train)"
   ]
  },
  {
   "cell_type": "code",
   "execution_count": 6,
   "metadata": {},
   "outputs": [
    {
     "ename": "AttributeError",
     "evalue": "'numpy.ndarray' object has no attribute 'encode'",
     "output_type": "error",
     "traceback": [
      "\u001b[1;31m---------------------------------------------------------------------------\u001b[0m",
      "\u001b[1;31mAttributeError\u001b[0m                            Traceback (most recent call last)",
      "\u001b[1;32mc:\\Users\\arthur.cardoso\\Documents\\Unb\\PLN\\KNN classificador\\KnnGzip.ipynb Cell 6\u001b[0m line \u001b[0;36m1\n\u001b[1;32m----> <a href='vscode-notebook-cell:/c%3A/Users/arthur.cardoso/Documents/Unb/PLN/KNN%20classificador/KnnGzip.ipynb#W5sZmlsZQ%3D%3D?line=0'>1</a>\u001b[0m predictions \u001b[39m=\u001b[39m clf\u001b[39m.\u001b[39;49mpredict(X_test_transformed\u001b[39m.\u001b[39;49mtoarray())\n\u001b[0;32m      <a href='vscode-notebook-cell:/c%3A/Users/arthur.cardoso/Documents/Unb/PLN/KNN%20classificador/KnnGzip.ipynb#W5sZmlsZQ%3D%3D?line=1'>2</a>\u001b[0m accuracy \u001b[39m=\u001b[39m np\u001b[39m.\u001b[39msum(predictions \u001b[39m==\u001b[39m y_test) \u001b[39m/\u001b[39m \u001b[39mlen\u001b[39m(y_test)\n\u001b[0;32m      <a href='vscode-notebook-cell:/c%3A/Users/arthur.cardoso/Documents/Unb/PLN/KNN%20classificador/KnnGzip.ipynb#W5sZmlsZQ%3D%3D?line=3'>4</a>\u001b[0m \u001b[39mprint\u001b[39m(\u001b[39m'\u001b[39m\u001b[39mAccuracy:\u001b[39m\u001b[39m'\u001b[39m, accuracy)\n",
      "\u001b[1;32mc:\\Users\\arthur.cardoso\\Documents\\Unb\\PLN\\KNN classificador\\KnnGzip.ipynb Cell 6\u001b[0m line \u001b[0;36m2\n\u001b[0;32m     <a href='vscode-notebook-cell:/c%3A/Users/arthur.cardoso/Documents/Unb/PLN/KNN%20classificador/KnnGzip.ipynb#W5sZmlsZQ%3D%3D?line=23'>24</a>\u001b[0m \u001b[39mfor\u001b[39;00m x1 \u001b[39min\u001b[39;00m X:\n\u001b[0;32m     <a href='vscode-notebook-cell:/c%3A/Users/arthur.cardoso/Documents/Unb/PLN/KNN%20classificador/KnnGzip.ipynb#W5sZmlsZQ%3D%3D?line=24'>25</a>\u001b[0m     \u001b[39mfor\u001b[39;00m x2 \u001b[39min\u001b[39;00m \u001b[39mself\u001b[39m\u001b[39m.\u001b[39mX_:\n\u001b[1;32m---> <a href='vscode-notebook-cell:/c%3A/Users/arthur.cardoso/Documents/Unb/PLN/KNN%20classificador/KnnGzip.ipynb#W5sZmlsZQ%3D%3D?line=25'>26</a>\u001b[0m         ncd \u001b[39m=\u001b[39m \u001b[39mself\u001b[39;49m\u001b[39m.\u001b[39;49mncd(x1, x2)\n\u001b[0;32m     <a href='vscode-notebook-cell:/c%3A/Users/arthur.cardoso/Documents/Unb/PLN/KNN%20classificador/KnnGzip.ipynb#W5sZmlsZQ%3D%3D?line=26'>27</a>\u001b[0m         distance_from_x1\u001b[39m.\u001b[39mappend(ncd)\n\u001b[0;32m     <a href='vscode-notebook-cell:/c%3A/Users/arthur.cardoso/Documents/Unb/PLN/KNN%20classificador/KnnGzip.ipynb#W5sZmlsZQ%3D%3D?line=28'>29</a>\u001b[0m distance_matrix \u001b[39m=\u001b[39m np\u001b[39m.\u001b[39marray(distance_from_x1)\u001b[39m.\u001b[39mreshape(\u001b[39mlen\u001b[39m(X), \u001b[39m-\u001b[39m\u001b[39m1\u001b[39m)\n",
      "\u001b[1;32mc:\\Users\\arthur.cardoso\\Documents\\Unb\\PLN\\KNN classificador\\KnnGzip.ipynb Cell 6\u001b[0m line \u001b[0;36m6\n\u001b[0;32m      <a href='vscode-notebook-cell:/c%3A/Users/arthur.cardoso/Documents/Unb/PLN/KNN%20classificador/KnnGzip.ipynb#W5sZmlsZQ%3D%3D?line=4'>5</a>\u001b[0m \u001b[39mdef\u001b[39;00m \u001b[39mncd\u001b[39m(\u001b[39mself\u001b[39m, x1, x2):\n\u001b[1;32m----> <a href='vscode-notebook-cell:/c%3A/Users/arthur.cardoso/Documents/Unb/PLN/KNN%20classificador/KnnGzip.ipynb#W5sZmlsZQ%3D%3D?line=5'>6</a>\u001b[0m     Cx1 \u001b[39m=\u001b[39m \u001b[39mlen\u001b[39m(gzip\u001b[39m.\u001b[39mcompress(x1\u001b[39m.\u001b[39;49mencode()))\n\u001b[0;32m      <a href='vscode-notebook-cell:/c%3A/Users/arthur.cardoso/Documents/Unb/PLN/KNN%20classificador/KnnGzip.ipynb#W5sZmlsZQ%3D%3D?line=6'>7</a>\u001b[0m     Cx2 \u001b[39m=\u001b[39m \u001b[39mlen\u001b[39m(gzip\u001b[39m.\u001b[39mcompress(x2\u001b[39m.\u001b[39mencode()))\n\u001b[0;32m      <a href='vscode-notebook-cell:/c%3A/Users/arthur.cardoso/Documents/Unb/PLN/KNN%20classificador/KnnGzip.ipynb#W5sZmlsZQ%3D%3D?line=7'>8</a>\u001b[0m     x1x2 \u001b[39m=\u001b[39m \u001b[39m\"\u001b[39m\u001b[39m \u001b[39m\u001b[39m\"\u001b[39m\u001b[39m.\u001b[39mjoin([x1, x2])\n",
      "\u001b[1;31mAttributeError\u001b[0m: 'numpy.ndarray' object has no attribute 'encode'"
     ]
    }
   ],
   "source": [
    "predictions = clf.predict(X_test_transformed.toarray())\n",
    "accuracy = np.sum(predictions == y_test) / len(y_test)\n",
    "\n",
    "print('Accuracy:', accuracy)"
   ]
  }
 ],
 "metadata": {
  "kernelspec": {
   "display_name": "Python 3",
   "language": "python",
   "name": "python3"
  },
  "language_info": {
   "codemirror_mode": {
    "name": "ipython",
    "version": 3
   },
   "file_extension": ".py",
   "mimetype": "text/x-python",
   "name": "python",
   "nbconvert_exporter": "python",
   "pygments_lexer": "ipython3",
   "version": "3.11.0"
  },
  "orig_nbformat": 4
 },
 "nbformat": 4,
 "nbformat_minor": 2
}
